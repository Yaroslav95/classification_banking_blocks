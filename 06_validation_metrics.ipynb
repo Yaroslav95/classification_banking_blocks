{
 "cells": [
  {
   "cell_type": "code",
   "execution_count": 46,
   "metadata": {},
   "outputs": [],
   "source": [
    "import numpy as np\n",
    "import pandas as pd\n",
    "import time\n",
    "import lightgbm as lgb\n",
    "\n",
    "from sklearn.model_selection import train_test_split\n",
    "import matplotlib.pyplot as plt\n",
    "import joblib\n",
    "\n",
    "from sklearn.metrics import roc_auc_score\n",
    "from sklearn.metrics import classification_report\n"
   ]
  },
  {
   "cell_type": "markdown",
   "metadata": {},
   "source": [
    "## Загрузка модели"
   ]
  },
  {
   "cell_type": "code",
   "execution_count": 47,
   "metadata": {},
   "outputs": [],
   "source": [
    "model = joblib.load('lgbm_model.pkl', 'wb')"
   ]
  },
  {
   "cell_type": "markdown",
   "metadata": {},
   "source": [
    "## Загрузка датасетов"
   ]
  },
  {
   "cell_type": "code",
   "execution_count": 48,
   "metadata": {},
   "outputs": [],
   "source": [
    "train_test = pd.read_csv('train_test.csv', sep=';', encoding='cp1251')\n",
    "valid_1 = pd.read_csv('valid_1.csv', sep=';', encoding='cp1251')\n",
    "valid_2 = pd.read_csv('valid_2.csv', sep=';', encoding='cp1251')"
   ]
  },
  {
   "cell_type": "code",
   "execution_count": 49,
   "metadata": {},
   "outputs": [],
   "source": [
    "## Преобразования признаков\n",
    "for col in train_test.dtypes[lambda x: x=='object'].index:\n",
    "\n",
    "    train_test[col] = train_test[col].astype('category')\n",
    "    valid_1[col] = valid_1[col].astype('category')\n",
    "    valid_2[col] = valid_2[col].astype('category')\n",
    "    "
   ]
  },
  {
   "cell_type": "markdown",
   "metadata": {},
   "source": [
    "# 1. Технические метрики"
   ]
  },
  {
   "cell_type": "code",
   "execution_count": 50,
   "metadata": {},
   "outputs": [],
   "source": [
    "def get_metrics(df):\n",
    "    \"\"\"\n",
    "    Функция возвращает значение метрики roc_auc\n",
    "    \"\"\"\n",
    "    \n",
    "    y_true = list(df['target'])\n",
    "    y_pred =  model.predict(df[model.feature_name()])\n",
    "    score = roc_auc_score(y_true, y_pred)\n",
    "    \n",
    "    return score\n",
    "    "
   ]
  },
  {
   "cell_type": "code",
   "execution_count": 51,
   "metadata": {},
   "outputs": [],
   "source": [
    "#Управляя попрогом, можно смотреть на пороговые метрики классификации\n",
    "\n",
    "def get_quantile_metrics(df, N):\n",
    "    \"\"\"\n",
    "    Отчет по метрикам классификации\n",
    "    Функция на вход принимает датасет и долю отсечения @k от 0 до 100\n",
    "    \"\"\"\n",
    "    print('Отсечение по первым ' + str(N) + '%')\n",
    "    \n",
    "    y_true = df['target']\n",
    "    y_pred =  pd.Series(model.predict(df[model.feature_name()]))\n",
    "    \n",
    "    scores = pd.concat([y_true, y_pred], axis=1).rename(columns={0:'score'})\n",
    "    value_N = scores['score'].quantile([N/100]).values[0]\n",
    "    \n",
    "    # все что выше порога будет 1, все что ниже -0 \n",
    "    scores['score'] = scores['score'].map(lambda x: 1 if x>=value_N else 0)\n",
    "    \n",
    "    print('Размер выборки', df.shape[0])\n",
    "    \n",
    "    print(classification_report(scores['target'], scores['score']))\n",
    "    print('-----------')\n",
    "\n",
    "\n",
    "#get_quantile_metrics(train_test, 20)"
   ]
  },
  {
   "cell_type": "markdown",
   "metadata": {},
   "source": [
    "### Показатели технических метрик"
   ]
  },
  {
   "cell_type": "code",
   "execution_count": 52,
   "metadata": {},
   "outputs": [
    {
     "name": "stdout",
     "output_type": "stream",
     "text": [
      "roc_auc метрика\n",
      "train_test: 0.7801002509569653\n",
      "valid_1: 0.756690309712818\n",
      "valid_2: 0.7643479211954664\n"
     ]
    }
   ],
   "source": [
    "print('roc_auc метрика')\n",
    "print('train_test:', get_metrics(train_test))\n",
    "print('valid_1:', get_metrics(valid_1))\n",
    "print('valid_2:', get_metrics(valid_2))"
   ]
  },
  {
   "cell_type": "code",
   "execution_count": 53,
   "metadata": {},
   "outputs": [
    {
     "name": "stdout",
     "output_type": "stream",
     "text": [
      "Отсечение по первым 10%\n",
      "Размер выборки 3114\n",
      "              precision    recall  f1-score   support\n",
      "\n",
      "           0       1.00      0.11      0.21      2709\n",
      "           1       0.14      1.00      0.25       405\n",
      "\n",
      "   micro avg       0.23      0.23      0.23      3114\n",
      "   macro avg       0.57      0.56      0.23      3114\n",
      "weighted avg       0.89      0.23      0.21      3114\n",
      "\n",
      "-----------\n"
     ]
    }
   ],
   "source": [
    "#Задаем порог для метрик\n",
    "get_quantile_metrics(valid_2, 10)"
   ]
  },
  {
   "cell_type": "code",
   "execution_count": 54,
   "metadata": {},
   "outputs": [
    {
     "name": "stdout",
     "output_type": "stream",
     "text": [
      "56645\n",
      "6324\n",
      "3114\n"
     ]
    }
   ],
   "source": [
    "# Размер выборок\n",
    "print(train_test.shape[0])\n",
    "print(valid_1.shape[0])\n",
    "print(valid_2.shape[0])"
   ]
  },
  {
   "cell_type": "markdown",
   "metadata": {},
   "source": [
    "# 2. Бизнес - метрики"
   ]
  },
  {
   "cell_type": "markdown",
   "metadata": {},
   "source": [
    "## Основной метрикой будем считать долю блокировок\n",
    "### Считаем в разрезе сегментов скоров модели"
   ]
  },
  {
   "cell_type": "code",
   "execution_count": 56,
   "metadata": {},
   "outputs": [],
   "source": [
    "def plot_model_bins(model, df):\n",
    "    \n",
    "    segments = 10\n",
    "    \n",
    "    df['pred'] = model.predict(df[model.feature_name()])                           \n",
    "    bins_data = np.array_split(df[['pred', 'target']].sort_values('pred', ascending=False), segments)                             \n",
    "    df = df.drop('pred', axis=1)\n",
    "                               \n",
    "    for i in bins_data:\n",
    "                               \n",
    "        i['boarder'] = i.pred.max()\n",
    "        i['mean'] = i['target'].mean()\n",
    "        i['sum'] = i['target'].sum()\n",
    "        i['count'] = i['target'].count()\n",
    "        i['segm_num'] = segments\n",
    "        segments -= 1\n",
    "    \n",
    "    bins_data = pd.concat(bins_data)[['boarder', 'mean', 'sum', 'count', 'segm_num']]\\\n",
    "                  .drop_duplicates()\n",
    "                               \n",
    "    return bins_data\n",
    "    "
   ]
  },
  {
   "cell_type": "code",
   "execution_count": 57,
   "metadata": {},
   "outputs": [
    {
     "data": {
      "text/html": [
       "<div>\n",
       "<style scoped>\n",
       "    .dataframe tbody tr th:only-of-type {\n",
       "        vertical-align: middle;\n",
       "    }\n",
       "\n",
       "    .dataframe tbody tr th {\n",
       "        vertical-align: top;\n",
       "    }\n",
       "\n",
       "    .dataframe thead th {\n",
       "        text-align: right;\n",
       "    }\n",
       "</style>\n",
       "<table border=\"1\" class=\"dataframe\">\n",
       "  <thead>\n",
       "    <tr style=\"text-align: right;\">\n",
       "      <th></th>\n",
       "      <th>Граница скора модели</th>\n",
       "      <th>Доля блокировок</th>\n",
       "      <th>Количество блокировок</th>\n",
       "      <th>Всего наблюдений</th>\n",
       "      <th>low_intrerval</th>\n",
       "      <th>how_intrerval</th>\n",
       "    </tr>\n",
       "    <tr>\n",
       "      <th>Сегмент</th>\n",
       "      <th></th>\n",
       "      <th></th>\n",
       "      <th></th>\n",
       "      <th></th>\n",
       "      <th></th>\n",
       "      <th></th>\n",
       "    </tr>\n",
       "  </thead>\n",
       "  <tbody>\n",
       "    <tr>\n",
       "      <th>1</th>\n",
       "      <td>0.093541</td>\n",
       "      <td>0.003215</td>\n",
       "      <td>1</td>\n",
       "      <td>311</td>\n",
       "      <td>-0.003077</td>\n",
       "      <td>0.009508</td>\n",
       "    </tr>\n",
       "    <tr>\n",
       "      <th>2</th>\n",
       "      <td>0.220965</td>\n",
       "      <td>0.022508</td>\n",
       "      <td>7</td>\n",
       "      <td>311</td>\n",
       "      <td>0.006023</td>\n",
       "      <td>0.038994</td>\n",
       "    </tr>\n",
       "    <tr>\n",
       "      <th>3</th>\n",
       "      <td>0.347424</td>\n",
       "      <td>0.041801</td>\n",
       "      <td>13</td>\n",
       "      <td>311</td>\n",
       "      <td>0.019558</td>\n",
       "      <td>0.064044</td>\n",
       "    </tr>\n",
       "    <tr>\n",
       "      <th>4</th>\n",
       "      <td>0.426993</td>\n",
       "      <td>0.080386</td>\n",
       "      <td>25</td>\n",
       "      <td>311</td>\n",
       "      <td>0.050168</td>\n",
       "      <td>0.110604</td>\n",
       "    </tr>\n",
       "    <tr>\n",
       "      <th>5</th>\n",
       "      <td>0.428437</td>\n",
       "      <td>0.086817</td>\n",
       "      <td>27</td>\n",
       "      <td>311</td>\n",
       "      <td>0.055523</td>\n",
       "      <td>0.118110</td>\n",
       "    </tr>\n",
       "    <tr>\n",
       "      <th>6</th>\n",
       "      <td>0.482004</td>\n",
       "      <td>0.102894</td>\n",
       "      <td>32</td>\n",
       "      <td>311</td>\n",
       "      <td>0.069127</td>\n",
       "      <td>0.136661</td>\n",
       "    </tr>\n",
       "    <tr>\n",
       "      <th>7</th>\n",
       "      <td>0.563505</td>\n",
       "      <td>0.141026</td>\n",
       "      <td>44</td>\n",
       "      <td>312</td>\n",
       "      <td>0.102405</td>\n",
       "      <td>0.179646</td>\n",
       "    </tr>\n",
       "    <tr>\n",
       "      <th>8</th>\n",
       "      <td>0.657622</td>\n",
       "      <td>0.195513</td>\n",
       "      <td>61</td>\n",
       "      <td>312</td>\n",
       "      <td>0.151505</td>\n",
       "      <td>0.239520</td>\n",
       "    </tr>\n",
       "    <tr>\n",
       "      <th>9</th>\n",
       "      <td>0.779048</td>\n",
       "      <td>0.269231</td>\n",
       "      <td>84</td>\n",
       "      <td>312</td>\n",
       "      <td>0.220012</td>\n",
       "      <td>0.318450</td>\n",
       "    </tr>\n",
       "    <tr>\n",
       "      <th>10</th>\n",
       "      <td>0.905599</td>\n",
       "      <td>0.355769</td>\n",
       "      <td>111</td>\n",
       "      <td>312</td>\n",
       "      <td>0.302646</td>\n",
       "      <td>0.408892</td>\n",
       "    </tr>\n",
       "  </tbody>\n",
       "</table>\n",
       "</div>"
      ],
      "text/plain": [
       "         Граница скора модели  Доля блокировок  Количество блокировок  \\\n",
       "Сегмент                                                                 \n",
       "1                    0.093541         0.003215                      1   \n",
       "2                    0.220965         0.022508                      7   \n",
       "3                    0.347424         0.041801                     13   \n",
       "4                    0.426993         0.080386                     25   \n",
       "5                    0.428437         0.086817                     27   \n",
       "6                    0.482004         0.102894                     32   \n",
       "7                    0.563505         0.141026                     44   \n",
       "8                    0.657622         0.195513                     61   \n",
       "9                    0.779048         0.269231                     84   \n",
       "10                   0.905599         0.355769                    111   \n",
       "\n",
       "         Всего наблюдений  low_intrerval  how_intrerval  \n",
       "Сегмент                                                  \n",
       "1                     311      -0.003077       0.009508  \n",
       "2                     311       0.006023       0.038994  \n",
       "3                     311       0.019558       0.064044  \n",
       "4                     311       0.050168       0.110604  \n",
       "5                     311       0.055523       0.118110  \n",
       "6                     311       0.069127       0.136661  \n",
       "7                     312       0.102405       0.179646  \n",
       "8                     312       0.151505       0.239520  \n",
       "9                     312       0.220012       0.318450  \n",
       "10                    312       0.302646       0.408892  "
      ]
     },
     "execution_count": 57,
     "metadata": {},
     "output_type": "execute_result"
    }
   ],
   "source": [
    "data = plot_model_bins(model, valid_2)\n",
    "data = data.rename(columns={'boarder':'Граница скора модели',\n",
    "                            'mean':'Доля блокировок',\n",
    "                            'sum':'Количество блокировок',\n",
    "                            'count':'Всего наблюдений',\n",
    "                            'segm_num':'Сегмент'})\\\n",
    "           .reset_index(drop=True)\\\n",
    "           .sort_values('Сегмент')\\\n",
    "           .set_index('Сегмент')\n",
    "\n",
    "\n",
    "(data\n",
    "    .assign(low_intrerval = lambda x: x['Доля блокировок'] - 1.96*np.sqrt(x['Доля блокировок']*(1-x['Доля блокировок'])/x['Всего наблюдений']))\n",
    "    .assign(how_intrerval = lambda x: x['Доля блокировок'] + 1.96*np.sqrt(x['Доля блокировок']*(1-x['Доля блокировок'])/x['Всего наблюдений']))\n",
    ")"
   ]
  },
  {
   "cell_type": "code",
   "execution_count": 58,
   "metadata": {},
   "outputs": [
    {
     "data": {
      "image/png": "[encoded data removed]",
      "text/plain": [
       "<Figure size 720x504 with 1 Axes>"
      ]
     },
     "metadata": {},
     "output_type": "display_data"
    }
   ],
   "source": [
    "fig = plt.figure(figsize=(10,7))\n",
    "plt.bar(data.index, data['Доля блокировок'])\n",
    "plt.title('Распределение блокировок счетов по бинам модели')\n",
    "plt.xlabel('Сегмент по модели')\n",
    "plt.ylabel('Доля блокировок')\n",
    "plt.show()"
   ]
  },
  {
   "cell_type": "markdown",
   "metadata": {},
   "source": [
    "# 3. Значения для расчета финансового эффекта"
   ]
  },
  {
   "cell_type": "markdown",
   "metadata": {},
   "source": [
    "### 9,5% - доля блокировок за последние 6 месяцев с 2019-09-01"
   ]
  },
  {
   "cell_type": "markdown",
   "metadata": {},
   "source": [
    "### 4.7 % Доля блокировок за последние 6 месяцев с 2019-09-01 по модели с 1 по 5 сегмент"
   ]
  },
  {
   "cell_type": "code",
   "execution_count": 59,
   "metadata": {},
   "outputs": [
    {
     "data": {
      "text/plain": [
       "0.04694533762057878"
      ]
     },
     "execution_count": 59,
     "metadata": {},
     "output_type": "execute_result"
    }
   ],
   "source": [
    "data.loc[lambda x: x.index<=5]['Количество блокировок'].sum() / data.loc[lambda x: x.index<=5]['Всего наблюдений'].sum()"
   ]
  },
  {
   "cell_type": "markdown",
   "metadata": {},
   "source": [
    "### Для расчета финансового эффекта возьмем предполагаемые доли блокировок 0.5% (по модели) и 0.3% (по текущему процессу или старой модели)"
   ]
  },
  {
   "cell_type": "markdown",
   "metadata": {},
   "source": [
    "## 3.1 Доверительный интервал финансового эффекта"
   ]
  },
  {
   "cell_type": "code",
   "execution_count": 11,
   "metadata": {},
   "outputs": [],
   "source": [
    "def get_confidence_interval(N, targets_sum):\n",
    "    \"\"\"\n",
    "    Функция на вход получает размер выборки и кол-во таргетов\n",
    "    На выходе получаем доверительный интервал\n",
    "    \"\"\"\n",
    "    \n",
    "    conv = targets_sum/N\n",
    "    \n",
    "    low_intrerval = conv - 1.96*np.sqrt(conv*(1-conv)/N)\n",
    "    high_intrerval = conv + 1.96*np.sqrt(conv*(1-conv)/N)\n",
    "    \n",
    "    return low_intrerval, high_intrerval\n",
    "    \n",
    "    "
   ]
  },
  {
   "cell_type": "markdown",
   "metadata": {},
   "source": [
    "#### Количество счетов по исходной выборке 203167   \n",
    "#### По модели 1016 блокировок (0.5%)"
   ]
  },
  {
   "cell_type": "code",
   "execution_count": 19,
   "metadata": {},
   "outputs": [
    {
     "name": "stdout",
     "output_type": "stream",
     "text": [
      "Доля блокировок 0.005000812139766793\n"
     ]
    },
    {
     "data": {
      "text/plain": [
       "(0.004694078702979288, 0.0053075455765542985)"
      ]
     },
     "execution_count": 19,
     "metadata": {},
     "output_type": "execute_result"
    }
   ],
   "source": [
    "# Доверительный интервал доли блокировок по модели\n",
    "print('Доля блокировок', 1016/203167)\n",
    "get_confidence_interval(203167, 1016)"
   ]
  },
  {
   "cell_type": "markdown",
   "metadata": {},
   "source": [
    "#### Количество счетов по исходной выборке 203167   \n",
    "#### По процессу 610 блокировок (0.3%)"
   ]
  },
  {
   "cell_type": "code",
   "execution_count": 18,
   "metadata": {},
   "outputs": [
    {
     "name": "stdout",
     "output_type": "stream",
     "text": [
      "Доля блокировок 0.003002456107537149\n"
     ]
    },
    {
     "data": {
      "text/plain": [
       "(0.0027645449197178703, 0.0032403672953564278)"
      ]
     },
     "execution_count": 18,
     "metadata": {},
     "output_type": "execute_result"
    }
   ],
   "source": [
    "# Доверительный интервал доли блокировок по процессу\n",
    "print('Доля блокировок', 610/203167)\n",
    "get_confidence_interval(203167, 610)"
   ]
  },
  {
   "cell_type": "markdown",
   "metadata": {},
   "source": [
    "## 3.2 Доверительный интервал разницы"
   ]
  },
  {
   "cell_type": "code",
   "execution_count": 14,
   "metadata": {},
   "outputs": [],
   "source": [
    "def get_confidence_interval_delta(N_1, targets_sum_1, N_2, targets_sum_2):\n",
    "    \"\"\"\n",
    "    Функция на вход получает размер выборки и кол-во таргетов для 2 выборок\n",
    "    На выходе получаем доверительный интервал разницы conv2 и conv1 \n",
    "    Доверительный интервал разницы второй и первой выборки\n",
    "    \"\"\"\n",
    "    \n",
    "    conv1 = targets_sum_1/N_1\n",
    "    conv2 = targets_sum_2/N_2\n",
    "    \n",
    "    low_intrerval = conv2 - conv1 - 1.96*np.sqrt((conv1*(1-conv1)/N_2) + (conv2*(1-conv1)/N_2)) \n",
    "    high_intrerval = conv2 - conv1 + 1.96*np.sqrt((conv1*(1-conv1)/N_2) + (conv2*(1-conv1)/N_2)) \n",
    "    \n",
    "    return low_intrerval, high_intrerval"
   ]
  },
  {
   "cell_type": "code",
   "execution_count": 20,
   "metadata": {},
   "outputs": [
    {
     "name": "stdout",
     "output_type": "stream",
     "text": [
      "Дельта доли блокировок 0.001998356032229644\n"
     ]
    },
    {
     "data": {
      "text/plain": [
       "(0.001609928309710927, 0.002386783754748361)"
      ]
     },
     "execution_count": 20,
     "metadata": {},
     "output_type": "execute_result"
    }
   ],
   "source": [
    "# Доверительный интервал разницы долей блокировки\n",
    "print('Дельта доли блокировок', 1016/203167 - 610/203167)\n",
    "get_confidence_interval_delta(203167, 610, 203167, 1016)"
   ]
  },
  {
   "cell_type": "markdown",
   "metadata": {},
   "source": [
    "### Итоговый доверительный интервал дельты между моделью и процессом"
   ]
  },
  {
   "cell_type": "code",
   "execution_count": 27,
   "metadata": {},
   "outputs": [
    {
     "name": "stdout",
     "output_type": "stream",
     "text": [
      "0.002 +/- 0.0004\n"
     ]
    }
   ],
   "source": [
    "print('0.002 +/-',  round(0.001998356032229644 - 0.001609928309710927, 4))"
   ]
  },
  {
   "cell_type": "code",
   "execution_count": null,
   "metadata": {},
   "outputs": [],
   "source": []
  }
 ],
 "metadata": {
  "kernelspec": {
   "display_name": "Python 3",
   "language": "python",
   "name": "python3"
  },
  "language_info": {
   "codemirror_mode": {
    "name": "ipython",
    "version": 3
   },
   "file_extension": ".py",
   "mimetype": "text/x-python",
   "name": "python",
   "nbconvert_exporter": "python",
   "pygments_lexer": "ipython3",
   "version": "3.6.5"
  }
 },
 "nbformat": 4,
 "nbformat_minor": 2
}
