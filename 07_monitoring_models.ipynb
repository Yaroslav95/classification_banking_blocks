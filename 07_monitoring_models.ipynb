{
 "cells": [
  {
   "cell_type": "markdown",
   "metadata": {},
   "source": [
    "# Мониторинг построенной модели"
   ]
  },
  {
   "cell_type": "markdown",
   "metadata": {},
   "source": [
    "## 1. Данные"
   ]
  },
  {
   "cell_type": "markdown",
   "metadata": {},
   "source": [
    "- Изменение количества пропусков в данных\n",
    "- Изменение распределений данных (изменчивость)\n",
    "- Появление новых категорий\n",
    "- Обновление источников"
   ]
  },
  {
   "cell_type": "markdown",
   "metadata": {},
   "source": [
    "## 2. Эффективность модели"
   ]
  },
  {
   "cell_type": "markdown",
   "metadata": {},
   "source": [
    "- Технические метрики моделей (изменения метрик)\n",
    "- Бизнес метрики моделей (например, конверсия в сделку, доля блокировок)\n",
    "- Финансовый эффект модели\n",
    "- Бизнес-показатели по сегментам модельных скоров"
   ]
  },
  {
   "cell_type": "markdown",
   "metadata": {},
   "source": [
    "## 3. Стабильность скоринга"
   ]
  },
  {
   "cell_type": "markdown",
   "metadata": {},
   "source": [
    "- Проверка, что скоринг загружен\n",
    "- Размер таблицы скоринга (кол-во новых записей)\n",
    "- Скорость скоринга\n",
    "- Миграция сегментов (следить, какой процент перемещается)\n",
    "- Калибровка модели (актуальное состояние)\n",
    "- Изменение лидирующих предикторов"
   ]
  },
  {
   "cell_type": "markdown",
   "metadata": {},
   "source": [
    "## 4. Стабильность инфраструктуры"
   ]
  },
  {
   "cell_type": "markdown",
   "metadata": {},
   "source": [
    "- Компоненты в рабочем состоянии (нагрузка)\n",
    "- Есть ресурсы для запуска моделей"
   ]
  },
  {
   "cell_type": "markdown",
   "metadata": {},
   "source": [
    "## 5. Логирование ошибок"
   ]
  }
 ],
 "metadata": {
  "kernelspec": {
   "display_name": "Python 3",
   "language": "python",
   "name": "python3"
  },
  "language_info": {
   "codemirror_mode": {
    "name": "ipython",
    "version": 3
   },
   "file_extension": ".py",
   "mimetype": "text/x-python",
   "name": "python",
   "nbconvert_exporter": "python",
   "pygments_lexer": "ipython3",
   "version": "3.6.5"
  }
 },
 "nbformat": 4,
 "nbformat_minor": 2
}
