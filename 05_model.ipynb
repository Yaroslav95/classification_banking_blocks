{
 "cells": [
  {
   "cell_type": "code",
   "execution_count": 168,
   "metadata": {},
   "outputs": [],
   "source": [
    "import numpy as np\n",
    "import pandas as pd\n",
    "import time\n",
    "import lightgbm as lgb\n",
    "from sklearn.model_selection import GridSearchCV\n",
    "from sklearn.model_selection import RandomizedSearchCV\n",
    "from sklearn.model_selection import KFold\n",
    "from sklearn import preprocessing\n",
    "from sklearn.linear_model import LogisticRegression\n",
    "\n",
    "from sklearn.model_selection import train_test_split\n",
    "\n",
    "import matplotlib.pyplot as plt\n",
    "import joblib\n",
    "\n",
    "import warnings\n",
    "warnings.filterwarnings('ignore')"
   ]
  },
  {
   "cell_type": "markdown",
   "metadata": {},
   "source": [
    "## Загрузка датасета"
   ]
  },
  {
   "cell_type": "code",
   "execution_count": 175,
   "metadata": {},
   "outputs": [],
   "source": [
    "def get_train_test():\n",
    "\n",
    "    df = pd.read_csv('train_test.csv', sep=';', encoding='cp1251')\n",
    "    \n",
    "    del_columns=['inn', 'дата_начала_полномочий_руководителя', 'Даты_внесения_соучредителей', \n",
    "                       'Дата_регистрации', 'История_смены_сооучредителей',\n",
    "                       'date_open_pc', 'month_date_open_pc']\n",
    "    \n",
    "    print('Уникальных ИНН', df.inn.unique().shape[0])\n",
    "    df = df.drop(del_columns, axis=1)\n",
    "    \n",
    "    return df"
   ]
  },
  {
   "cell_type": "code",
   "execution_count": 170,
   "metadata": {},
   "outputs": [],
   "source": [
    "float_columns = ['Количество_компаний_с_аналогичным_директором_в_том_же_регионе',\n",
    "                 'Количество_компаний,_зарегистрированных_на_адресе_регистрации_Организации_по_данным_сайта_ФНС',\n",
    "                 'Количество_видов_деятельности_у_Клиента',\n",
    "                 'размер_уставного_капитал_ЮЛ',\n",
    "                 'Чистая_прибыль_(или_убыток)_компании',\n",
    "                 'Пассивы_всего',\n",
    "                 'Количество_соучредителей',\n",
    "                 'Количество_филиалов',\n",
    "                 'Выручка_компании_(млн,_руб)',\n",
    "                 'Участие_в_госконтрактах_(количество)',\n",
    "                 'Сумма_налога',\n",
    "                 '7_-_массовый_контактный_телефон:_в_заявке_указан_телефон,_на_который_зарегистрировано_более_Х_компаний_(кроме_компаний-агентов)',\n",
    "                 '8_-_Количество_компаний_с_аналогичным_директором',\n",
    "                 '8_-_Количество_компаний_с_аналогичным_директором_в_том_же_регионе',\n",
    "                 '25_-_Государственные_заказы_и_контракты_Приняла_участие_(количество)',\n",
    "                 '25_-_Коммерческие_заказы_и_контракты_Количество_заключенных_контрактов',\n",
    "                 'is_credit']"
   ]
  },
  {
   "cell_type": "code",
   "execution_count": 171,
   "metadata": {},
   "outputs": [
    {
     "name": "stdout",
     "output_type": "stream",
     "text": [
      "(56645, 27)\n"
     ]
    },
    {
     "data": {
      "text/html": [
       "<div>\n",
       "<style scoped>\n",
       "    .dataframe tbody tr th:only-of-type {\n",
       "        vertical-align: middle;\n",
       "    }\n",
       "\n",
       "    .dataframe tbody tr th {\n",
       "        vertical-align: top;\n",
       "    }\n",
       "\n",
       "    .dataframe thead th {\n",
       "        text-align: right;\n",
       "    }\n",
       "</style>\n",
       "<table border=\"1\" class=\"dataframe\">\n",
       "  <thead>\n",
       "    <tr style=\"text-align: right;\">\n",
       "      <th></th>\n",
       "      <th>org_type</th>\n",
       "      <th>target</th>\n",
       "      <th>Количество_компаний_с_аналогичным_директором_в_том_же_регионе</th>\n",
       "      <th>Количество_компаний,_зарегистрированных_на_адресе_регистрации_Организации_по_данным_сайта_ФНС</th>\n",
       "      <th>Количество_видов_деятельности_у_Клиента</th>\n",
       "      <th>код_основного_оквэд</th>\n",
       "      <th>Субъект_местонахождения</th>\n",
       "      <th>размер_уставного_капитал_ЮЛ</th>\n",
       "      <th>Чистая_прибыль_(или_убыток)_компании</th>\n",
       "      <th>Отчетный_период_(год)</th>\n",
       "      <th>Пассивы_всего</th>\n",
       "      <th>Количество_соучредителей</th>\n",
       "      <th>Количество_филиалов</th>\n",
       "      <th>Численность_компании</th>\n",
       "      <th>Выручка_компании_(млн,_руб)</th>\n",
       "      <th>Участие_в_госконтрактах_(количество)</th>\n",
       "      <th>Участие_в_госконтрактах_(год)</th>\n",
       "      <th>Сумма_налога</th>\n",
       "      <th>ОПФ_Организации</th>\n",
       "      <th>7_-_массовый_контактный_телефон:_в_заявке_указан_телефон,_на_который_зарегистрировано_более_Х_компаний_(кроме_компаний-агентов)</th>\n",
       "      <th>8_-_Количество_компаний_с_аналогичным_директором</th>\n",
       "      <th>8_-_Количество_компаний_с_аналогичным_директором_в_том_же_регионе</th>\n",
       "      <th>25_-_Государственные_заказы_и_контракты_Приняла_участие_(количество)</th>\n",
       "      <th>25_-_Коммерческие_заказы_и_контракты_Количество_заключенных_контрактов</th>\n",
       "      <th>Индекс_финансового_риска_описание</th>\n",
       "      <th>Индекс_должной_осмотрительности_описание</th>\n",
       "      <th>is_credit</th>\n",
       "    </tr>\n",
       "  </thead>\n",
       "  <tbody>\n",
       "    <tr>\n",
       "      <th>0</th>\n",
       "      <td>ЮЛ</td>\n",
       "      <td>0</td>\n",
       "      <td>2.0</td>\n",
       "      <td>1.0</td>\n",
       "      <td>10.0</td>\n",
       "      <td>NaN</td>\n",
       "      <td>NaN</td>\n",
       "      <td>10000.0</td>\n",
       "      <td>NaN</td>\n",
       "      <td>NaN</td>\n",
       "      <td>NaN</td>\n",
       "      <td>1.0</td>\n",
       "      <td>0.0</td>\n",
       "      <td>NaN</td>\n",
       "      <td>NaN</td>\n",
       "      <td>NaN</td>\n",
       "      <td>NaN</td>\n",
       "      <td>NaN</td>\n",
       "      <td>65-Общества с ограниченной ответственностью</td>\n",
       "      <td>1.0</td>\n",
       "      <td>2.0</td>\n",
       "      <td>2.0</td>\n",
       "      <td>NaN</td>\n",
       "      <td>NaN</td>\n",
       "      <td>Средний риск</td>\n",
       "      <td>Средний риск</td>\n",
       "      <td>0.0</td>\n",
       "    </tr>\n",
       "    <tr>\n",
       "      <th>1</th>\n",
       "      <td>ЮЛ</td>\n",
       "      <td>0</td>\n",
       "      <td>3.0</td>\n",
       "      <td>3.0</td>\n",
       "      <td>18.0</td>\n",
       "      <td>NaN</td>\n",
       "      <td>NaN</td>\n",
       "      <td>19600.0</td>\n",
       "      <td>7445830.0</td>\n",
       "      <td>2017.0</td>\n",
       "      <td>34270600.0</td>\n",
       "      <td>3.0</td>\n",
       "      <td>0.0</td>\n",
       "      <td>16 .. 50</td>\n",
       "      <td>30.5</td>\n",
       "      <td>NaN</td>\n",
       "      <td>NaN</td>\n",
       "      <td>NaN</td>\n",
       "      <td>65-Общества с ограниченной ответственностью</td>\n",
       "      <td>29.0</td>\n",
       "      <td>3.0</td>\n",
       "      <td>3.0</td>\n",
       "      <td>2.0</td>\n",
       "      <td>NaN</td>\n",
       "      <td>Низкий риск</td>\n",
       "      <td>Средний риск</td>\n",
       "      <td>0.0</td>\n",
       "    </tr>\n",
       "    <tr>\n",
       "      <th>2</th>\n",
       "      <td>ИП</td>\n",
       "      <td>0</td>\n",
       "      <td>0.0</td>\n",
       "      <td>NaN</td>\n",
       "      <td>5.0</td>\n",
       "      <td>NaN</td>\n",
       "      <td>AJ</td>\n",
       "      <td>NaN</td>\n",
       "      <td>NaN</td>\n",
       "      <td>NaN</td>\n",
       "      <td>NaN</td>\n",
       "      <td>NaN</td>\n",
       "      <td>1.0</td>\n",
       "      <td>NaN</td>\n",
       "      <td>NaN</td>\n",
       "      <td>NaN</td>\n",
       "      <td>NaN</td>\n",
       "      <td>NaN</td>\n",
       "      <td>50102-Индивидуальные предприниматели</td>\n",
       "      <td>NaN</td>\n",
       "      <td>NaN</td>\n",
       "      <td>0.0</td>\n",
       "      <td>NaN</td>\n",
       "      <td>NaN</td>\n",
       "      <td>NaN</td>\n",
       "      <td>NaN</td>\n",
       "      <td>0.0</td>\n",
       "    </tr>\n",
       "    <tr>\n",
       "      <th>3</th>\n",
       "      <td>ЮЛ</td>\n",
       "      <td>0</td>\n",
       "      <td>2.0</td>\n",
       "      <td>11.0</td>\n",
       "      <td>3.0</td>\n",
       "      <td>NaN</td>\n",
       "      <td>NaN</td>\n",
       "      <td>260000.0</td>\n",
       "      <td>3784950.0</td>\n",
       "      <td>2017.0</td>\n",
       "      <td>1063230.0</td>\n",
       "      <td>2.0</td>\n",
       "      <td>0.0</td>\n",
       "      <td>16 .. 50</td>\n",
       "      <td>44.4</td>\n",
       "      <td>0.0</td>\n",
       "      <td>2017.0</td>\n",
       "      <td>NaN</td>\n",
       "      <td>65-Общества с ограниченной ответственностью</td>\n",
       "      <td>1.0</td>\n",
       "      <td>2.0</td>\n",
       "      <td>2.0</td>\n",
       "      <td>0.0</td>\n",
       "      <td>0.0</td>\n",
       "      <td>Низкий риск</td>\n",
       "      <td>Низкий риск</td>\n",
       "      <td>0.0</td>\n",
       "    </tr>\n",
       "    <tr>\n",
       "      <th>4</th>\n",
       "      <td>ЮЛ</td>\n",
       "      <td>0</td>\n",
       "      <td>1.0</td>\n",
       "      <td>1.0</td>\n",
       "      <td>25.0</td>\n",
       "      <td>NaN</td>\n",
       "      <td>NaN</td>\n",
       "      <td>10000.0</td>\n",
       "      <td>NaN</td>\n",
       "      <td>NaN</td>\n",
       "      <td>NaN</td>\n",
       "      <td>2.0</td>\n",
       "      <td>0.0</td>\n",
       "      <td>NaN</td>\n",
       "      <td>NaN</td>\n",
       "      <td>NaN</td>\n",
       "      <td>NaN</td>\n",
       "      <td>NaN</td>\n",
       "      <td>65-Общества с ограниченной ответственностью</td>\n",
       "      <td>0.0</td>\n",
       "      <td>1.0</td>\n",
       "      <td>1.0</td>\n",
       "      <td>NaN</td>\n",
       "      <td>NaN</td>\n",
       "      <td>Расчет индекса не осуществляется</td>\n",
       "      <td>Средний риск</td>\n",
       "      <td>0.0</td>\n",
       "    </tr>\n",
       "  </tbody>\n",
       "</table>\n",
       "</div>"
      ],
      "text/plain": [
       "  org_type  target  \\\n",
       "0       ЮЛ       0   \n",
       "1       ЮЛ       0   \n",
       "2       ИП       0   \n",
       "3       ЮЛ       0   \n",
       "4       ЮЛ       0   \n",
       "\n",
       "   Количество_компаний_с_аналогичным_директором_в_том_же_регионе  \\\n",
       "0                                                2.0               \n",
       "1                                                3.0               \n",
       "2                                                0.0               \n",
       "3                                                2.0               \n",
       "4                                                1.0               \n",
       "\n",
       "   Количество_компаний,_зарегистрированных_на_адресе_регистрации_Организации_по_данным_сайта_ФНС  \\\n",
       "0                                                1.0                                               \n",
       "1                                                3.0                                               \n",
       "2                                                NaN                                               \n",
       "3                                               11.0                                               \n",
       "4                                                1.0                                               \n",
       "\n",
       "   Количество_видов_деятельности_у_Клиента код_основного_оквэд  \\\n",
       "0                                     10.0                 NaN   \n",
       "1                                     18.0                 NaN   \n",
       "2                                      5.0                 NaN   \n",
       "3                                      3.0                 NaN   \n",
       "4                                     25.0                 NaN   \n",
       "\n",
       "  Субъект_местонахождения  размер_уставного_капитал_ЮЛ  \\\n",
       "0                     NaN                      10000.0   \n",
       "1                     NaN                      19600.0   \n",
       "2                      AJ                          NaN   \n",
       "3                     NaN                     260000.0   \n",
       "4                     NaN                      10000.0   \n",
       "\n",
       "   Чистая_прибыль_(или_убыток)_компании  Отчетный_период_(год)  Пассивы_всего  \\\n",
       "0                                   NaN                    NaN            NaN   \n",
       "1                             7445830.0                 2017.0     34270600.0   \n",
       "2                                   NaN                    NaN            NaN   \n",
       "3                             3784950.0                 2017.0      1063230.0   \n",
       "4                                   NaN                    NaN            NaN   \n",
       "\n",
       "   Количество_соучредителей  Количество_филиалов Численность_компании  \\\n",
       "0                       1.0                  0.0                  NaN   \n",
       "1                       3.0                  0.0             16 .. 50   \n",
       "2                       NaN                  1.0                  NaN   \n",
       "3                       2.0                  0.0             16 .. 50   \n",
       "4                       2.0                  0.0                  NaN   \n",
       "\n",
       "   Выручка_компании_(млн,_руб)  Участие_в_госконтрактах_(количество)  \\\n",
       "0                          NaN                                   NaN   \n",
       "1                         30.5                                   NaN   \n",
       "2                          NaN                                   NaN   \n",
       "3                         44.4                                   0.0   \n",
       "4                          NaN                                   NaN   \n",
       "\n",
       "   Участие_в_госконтрактах_(год)  Сумма_налога  \\\n",
       "0                            NaN           NaN   \n",
       "1                            NaN           NaN   \n",
       "2                            NaN           NaN   \n",
       "3                         2017.0           NaN   \n",
       "4                            NaN           NaN   \n",
       "\n",
       "                               ОПФ_Организации  \\\n",
       "0  65-Общества с ограниченной ответственностью   \n",
       "1  65-Общества с ограниченной ответственностью   \n",
       "2         50102-Индивидуальные предприниматели   \n",
       "3  65-Общества с ограниченной ответственностью   \n",
       "4  65-Общества с ограниченной ответственностью   \n",
       "\n",
       "   7_-_массовый_контактный_телефон:_в_заявке_указан_телефон,_на_который_зарегистрировано_более_Х_компаний_(кроме_компаний-агентов)  \\\n",
       "0                                                1.0                                                                                 \n",
       "1                                               29.0                                                                                 \n",
       "2                                                NaN                                                                                 \n",
       "3                                                1.0                                                                                 \n",
       "4                                                0.0                                                                                 \n",
       "\n",
       "   8_-_Количество_компаний_с_аналогичным_директором  \\\n",
       "0                                               2.0   \n",
       "1                                               3.0   \n",
       "2                                               NaN   \n",
       "3                                               2.0   \n",
       "4                                               1.0   \n",
       "\n",
       "   8_-_Количество_компаний_с_аналогичным_директором_в_том_же_регионе  \\\n",
       "0                                                2.0                   \n",
       "1                                                3.0                   \n",
       "2                                                0.0                   \n",
       "3                                                2.0                   \n",
       "4                                                1.0                   \n",
       "\n",
       "   25_-_Государственные_заказы_и_контракты_Приняла_участие_(количество)  \\\n",
       "0                                                NaN                      \n",
       "1                                                2.0                      \n",
       "2                                                NaN                      \n",
       "3                                                0.0                      \n",
       "4                                                NaN                      \n",
       "\n",
       "   25_-_Коммерческие_заказы_и_контракты_Количество_заключенных_контрактов  \\\n",
       "0                                                NaN                        \n",
       "1                                                NaN                        \n",
       "2                                                NaN                        \n",
       "3                                                0.0                        \n",
       "4                                                NaN                        \n",
       "\n",
       "  Индекс_финансового_риска_описание Индекс_должной_осмотрительности_описание  \\\n",
       "0                      Средний риск                             Средний риск   \n",
       "1                       Низкий риск                             Средний риск   \n",
       "2                               NaN                                      NaN   \n",
       "3                       Низкий риск                              Низкий риск   \n",
       "4  Расчет индекса не осуществляется                             Средний риск   \n",
       "\n",
       "   is_credit  \n",
       "0        0.0  \n",
       "1        0.0  \n",
       "2        0.0  \n",
       "3        0.0  \n",
       "4        0.0  "
      ]
     },
     "execution_count": 171,
     "metadata": {},
     "output_type": "execute_result"
    }
   ],
   "source": [
    "pd.set_option('display.max_columns', 100)\n",
    "print(df.shape)\n",
    "df.head()"
   ]
  },
  {
   "cell_type": "code",
   "execution_count": 116,
   "metadata": {},
   "outputs": [],
   "source": [
    "#df = df.drop([\n",
    "#             'Субъект_местонахождения'\n",
    "#             ], axis=1)"
   ]
  },
  {
   "cell_type": "markdown",
   "metadata": {},
   "source": [
    "## 1. Логистическая регрессия"
   ]
  },
  {
   "cell_type": "markdown",
   "metadata": {},
   "source": [
    "## Препроцессинг"
   ]
  },
  {
   "cell_type": "markdown",
   "metadata": {},
   "source": [
    "### Все изменения выборки можно проводить только на train, запоминать, каким образом менялись значения, затем применять к тестовой и валидационной выборке"
   ]
  },
  {
   "cell_type": "code",
   "execution_count": null,
   "metadata": {},
   "outputs": [],
   "source": [
    "df = get_train_test()"
   ]
  },
  {
   "cell_type": "code",
   "execution_count": 172,
   "metadata": {},
   "outputs": [],
   "source": [
    "# Для кросс-валидации применим к train-test\n",
    "#Обрежем числовые предикторы по 1 и 99 квантилю \n",
    "float_1_quantile = {}\n",
    "float_99_quantile = {}\n",
    "\n",
    "for col in float_columns:\n",
    "    value_1 = df[col].dropna().quantile([0.01]).values[0]\n",
    "    value_99 = df[col].dropna().quantile([0.99]).values[0]\n",
    "    \n",
    "    df.loc[lambda x: x[col]>value_99, col] = value_99\n",
    "    df.loc[lambda x: x[col]<value_1, col] = value_1\n",
    "    \n",
    "    #Запомним значения квантилей для препроцессинга отложенной выборки\n",
    "    float_99_quantile[col] = value_99  \n",
    "    float_1_quantile[col] = value_1  \n",
    "\n",
    "# Заполним пропуска модой, one-hot encoding\n",
    "df = df.fillna(df.mode().iloc[0])\n",
    "df = pd.get_dummies(df, drop_first=True)\n",
    "\n",
    "X_train = df.drop('target', axis=1)\n",
    "y_train = df['target']\n",
    "\n",
    "scaler = preprocessing.StandardScaler()\n",
    "X_train = scaler.fit_transform(X_train)\n"
   ]
  },
  {
   "cell_type": "markdown",
   "metadata": {},
   "source": [
    "## Подбор параметров с кросс-валидацией"
   ]
  },
  {
   "cell_type": "code",
   "execution_count": 177,
   "metadata": {},
   "outputs": [
    {
     "name": "stdout",
     "output_type": "stream",
     "text": [
      "Fitting 10 folds for each of 15 candidates, totalling 150 fits\n"
     ]
    },
    {
     "name": "stderr",
     "output_type": "stream",
     "text": [
      "[Parallel(n_jobs=1)]: Using backend SequentialBackend with 1 concurrent workers.\n",
      "[Parallel(n_jobs=1)]: Done 150 out of 150 | elapsed:  4.4min finished\n"
     ]
    },
    {
     "data": {
      "text/plain": [
       "GridSearchCV(cv=10, error_score='raise-deprecating',\n",
       "       estimator=LogisticRegression(C=1.0, class_weight=None, dual=False, fit_intercept=True,\n",
       "          intercept_scaling=1, max_iter=100, multi_class='warn',\n",
       "          n_jobs=None, penalty='l2', random_state=None, solver='warn',\n",
       "          tol=0.0001, verbose=0, warm_start=False),\n",
       "       fit_params=None, iid='warn', n_jobs=None,\n",
       "       param_grid={'max_iter': [1000], 'C': [1, 10, 100], 'penalty': ['l2'], 'random_state': [12], 'class_weight': ['balanced'], 'solver': ['liblinear', 'saga', 'sag', 'newton-cg', 'lbfgs']},\n",
       "       pre_dispatch='2*n_jobs', refit=True, return_train_score='warn',\n",
       "       scoring='roc_auc', verbose=1)"
      ]
     },
     "execution_count": 177,
     "metadata": {},
     "output_type": "execute_result"
    }
   ],
   "source": [
    "parameters = {\n",
    "    'max_iter': [1000],\n",
    "    'C': [1, 10, 100],\n",
    "    'penalty' : ['l2'],\n",
    "    'random_state': [12],\n",
    "    'class_weight': ['balanced'],\n",
    "    'solver'  : ['liblinear', 'saga', 'sag', 'newton-cg', 'lbfgs'],\n",
    "}\n",
    "\n",
    "logreg = LogisticRegression()\n",
    "clf = GridSearchCV(estimator= logreg,           \n",
    "                   param_grid = parameters, \n",
    "                   scoring='roc_auc',      \n",
    "                   cv=10,\n",
    "                   verbose=1)  \n",
    "\n",
    "clf.fit(X_train,y_train)"
   ]
  },
  {
   "cell_type": "code",
   "execution_count": 237,
   "metadata": {},
   "outputs": [
    {
     "name": "stdout",
     "output_type": "stream",
     "text": [
      "{'C': 1, 'class_weight': 'balanced', 'max_iter': 1000, 'penalty': 'l2', 'random_state': 12, 'solver': 'saga'}\n",
      "0.7094196012810122\n"
     ]
    }
   ],
   "source": [
    "print(clf.best_params_)\n",
    "print(clf.best_score_)"
   ]
  },
  {
   "cell_type": "code",
   "execution_count": 186,
   "metadata": {},
   "outputs": [
    {
     "name": "stdout",
     "output_type": "stream",
     "text": [
      "Mean roc_auc 0.7094113735784564\n",
      "Std 0.01705988230475435\n"
     ]
    }
   ],
   "source": [
    "print('Mean roc_auc', clf.cv_results_['mean_test_score'].mean())\n",
    "print('Std', clf.cv_results_['std_test_score'].mean())"
   ]
  },
  {
   "cell_type": "markdown",
   "metadata": {},
   "source": [
    "# 2. Бустинг LightGBM"
   ]
  },
  {
   "cell_type": "markdown",
   "metadata": {},
   "source": [
    "### Препроцессинг - категориальные признаки"
   ]
  },
  {
   "cell_type": "markdown",
   "metadata": {},
   "source": [
    "Распределение по квантилям можно не смещать для деревьев"
   ]
  },
  {
   "cell_type": "code",
   "execution_count": 239,
   "metadata": {},
   "outputs": [
    {
     "name": "stdout",
     "output_type": "stream",
     "text": [
      "Уникальных ИНН 55762\n"
     ]
    }
   ],
   "source": [
    "df = get_train_test()"
   ]
  },
  {
   "cell_type": "code",
   "execution_count": 240,
   "metadata": {},
   "outputs": [
    {
     "data": {
      "text/plain": [
       "['org_type',\n",
       " 'код_основного_оквэд',\n",
       " 'Субъект_местонахождения',\n",
       " 'Численность_компании',\n",
       " 'ОПФ_Организации',\n",
       " 'Индекс_финансового_риска_описание',\n",
       " 'Индекс_должной_осмотрительности_описание']"
      ]
     },
     "execution_count": 240,
     "metadata": {},
     "output_type": "execute_result"
    }
   ],
   "source": [
    "cat_feats = []\n",
    "\n",
    "for col in df.dtypes[lambda x: x=='object'].index:\n",
    "    df[col] = df[col].astype('category')\n",
    "    cat_feats.append(col)\n",
    "    \n",
    "cat_feats"
   ]
  },
  {
   "cell_type": "markdown",
   "metadata": {},
   "source": [
    "## Подбор параметров с кросс-валидацией"
   ]
  },
  {
   "cell_type": "code",
   "execution_count": 243,
   "metadata": {},
   "outputs": [
    {
     "name": "stdout",
     "output_type": "stream",
     "text": [
      "Fitting 5 folds for each of 100 candidates, totalling 500 fits\n"
     ]
    },
    {
     "name": "stderr",
     "output_type": "stream",
     "text": [
      "[Parallel(n_jobs=1)]: Using backend SequentialBackend with 1 concurrent workers.\n",
      "[Parallel(n_jobs=1)]: Done 500 out of 500 | elapsed: 47.0min finished\n"
     ]
    },
    {
     "name": "stdout",
     "output_type": "stream",
     "text": [
      "время 2831.471313714981\n"
     ]
    }
   ],
   "source": [
    "start_time = time.time()\n",
    "\n",
    "indexes_of_categories = [df.columns.get_loc(col) for col in cat_feats]\n",
    "\n",
    "gkf = KFold(n_splits=5, shuffle=True, random_state=12)\\\n",
    "         .split(df.drop('target',axis=1), df['target'])\n",
    "\n",
    "param_grid = {\n",
    "    'n_estimators':[400,500,700,800,1000],\n",
    "    'max_depth': [5,6,7],\n",
    "    'num_leaves': [31, 63, 127],\n",
    "    'min_data_in_leaf': [50, 100, 300, 400, 500],\n",
    "    'lambda_l1': [1, 10, 100],\n",
    "    'lambda_l2': [1, 10, 100]\n",
    "    }\n",
    "\n",
    "\n",
    "model = lgb.LGBMClassifier(boosting_type='gbdt', \n",
    "                                   is_unbalance=True,\n",
    "                                   objective='binary', \n",
    "                                   learning_rate=0.01, \n",
    "                                   metric='auc',\n",
    "                                   categorical_feature=indexes_of_categories)\n",
    "\n",
    "#early_stopping_rounds = 25,\n",
    "\n",
    "clf_lgb = RandomizedSearchCV(model, param_grid, verbose = 1, cv=gkf, n_iter=100)\n",
    "\n",
    "clf_lgb.fit(df.drop('target',axis=1), df['target'], verbose=2)\n",
    "\n",
    "\n",
    "print('время', time.time() - start_time)"
   ]
  },
  {
   "cell_type": "code",
   "execution_count": 242,
   "metadata": {},
   "outputs": [
    {
     "name": "stdout",
     "output_type": "stream",
     "text": [
      "{'num_leaves': 31, 'n_estimators': 700, 'min_data_in_leaf': 50, 'max_depth': 7, 'lambda_l2': 1, 'lambda_l1': 1}\n",
      "0.7219878188719216\n"
     ]
    }
   ],
   "source": [
    "print(clf_lgb.best_params_)\n",
    "print(clf_lgb.best_score_)"
   ]
  },
  {
   "cell_type": "markdown",
   "metadata": {},
   "source": [
    "Сравнение алгоритмов по roc_auc: LogReg 0.709 < LightGBM 0.72     \n",
    "LightGBM показал лучший результат"
   ]
  },
  {
   "cell_type": "markdown",
   "metadata": {},
   "source": [
    "# 3. Построение модели на лучшем алгоритме"
   ]
  },
  {
   "cell_type": "code",
   "execution_count": 265,
   "metadata": {},
   "outputs": [
    {
     "name": "stdout",
     "output_type": "stream",
     "text": [
      "Уникальных ИНН 55762\n"
     ]
    }
   ],
   "source": [
    "df = get_train_test()"
   ]
  },
  {
   "cell_type": "code",
   "execution_count": 266,
   "metadata": {},
   "outputs": [
    {
     "data": {
      "text/plain": [
       "['org_type',\n",
       " 'код_основного_оквэд',\n",
       " 'Субъект_местонахождения',\n",
       " 'Численность_компании',\n",
       " 'ОПФ_Организации',\n",
       " 'Индекс_финансового_риска_описание',\n",
       " 'Индекс_должной_осмотрительности_описание']"
      ]
     },
     "execution_count": 266,
     "metadata": {},
     "output_type": "execute_result"
    }
   ],
   "source": [
    "cat_feats = []\n",
    "\n",
    "for col in df.dtypes[lambda x: x=='object'].index:\n",
    "    df[col] = df[col].astype('category')\n",
    "    cat_feats.append(col)\n",
    "    \n",
    "cat_feats"
   ]
  },
  {
   "cell_type": "markdown",
   "metadata": {},
   "source": [
    "## Кросс-валидация на 10 фолдах"
   ]
  },
  {
   "cell_type": "code",
   "execution_count": 267,
   "metadata": {},
   "outputs": [],
   "source": [
    "grid_params = {'boosting_type':'gbdt', \n",
    "               'is_unbalance':True,\n",
    "               'objective':'binary', \n",
    "                'learning_rate':0.01, \n",
    "                'metric':'auc',\n",
    "                'num_leaves': 31, \n",
    "                'n_estimators': 800, \n",
    "                'min_data_in_leaf': 50, \n",
    "                'max_depth': 7, \n",
    "                'lambda_l2': 1, \n",
    "                'lambda_l1': 1,\n",
    "                'feature_fraction':0.7,\n",
    "                'bagging_fraction':0.7}"
   ]
  },
  {
   "cell_type": "code",
   "execution_count": 268,
   "metadata": {},
   "outputs": [
    {
     "name": "stdout",
     "output_type": "stream",
     "text": [
      "[50]\tcv_agg's auc: 0.736721 + 0.0102481\n",
      "[100]\tcv_agg's auc: 0.738254 + 0.0102383\n",
      "[150]\tcv_agg's auc: 0.740626 + 0.00999729\n",
      "[200]\tcv_agg's auc: 0.741903 + 0.00982519\n",
      "[250]\tcv_agg's auc: 0.742814 + 0.0100684\n",
      "[300]\tcv_agg's auc: 0.743376 + 0.00952679\n",
      "[350]\tcv_agg's auc: 0.744073 + 0.00937259\n",
      "[400]\tcv_agg's auc: 0.744299 + 0.0091502\n",
      "[450]\tcv_agg's auc: 0.744395 + 0.00901185\n",
      "[500]\tcv_agg's auc: 0.745235 + 0.00918651\n",
      "[550]\tcv_agg's auc: 0.745763 + 0.00903554\n",
      "[600]\tcv_agg's auc: 0.745812 + 0.00904486\n",
      "[650]\tcv_agg's auc: 0.74616 + 0.00927155\n",
      "[700]\tcv_agg's auc: 0.74624 + 0.00943473\n",
      "[750]\tcv_agg's auc: 0.746164 + 0.0093544\n"
     ]
    }
   ],
   "source": [
    "train = lgb.Dataset(data=df.drop('target', axis=1),\n",
    "                    label=df['target'],\n",
    "                    categorical_feature=cat_feats,\n",
    "                    free_raw_data = False) \n",
    "\n",
    "lgb_cv = lgb.cv(\n",
    "              params = grid_params,\n",
    "              train_set = train,\n",
    "              num_boost_round=800,\n",
    "              stratified=True,\n",
    "              nfold = 10,\n",
    "              verbose_eval=50,\n",
    "              metrics='auc',\n",
    "              early_stopping_rounds=50)"
   ]
  },
  {
   "cell_type": "code",
   "execution_count": 269,
   "metadata": {},
   "outputs": [
    {
     "name": "stdout",
     "output_type": "stream",
     "text": [
      "mean: 0.7463145867406522\n",
      "std: 0.009374192514306273\n"
     ]
    }
   ],
   "source": [
    "print('mean:', lgb_cv['auc-mean'][-1])\n",
    "print('std:', lgb_cv['auc-stdv'][-1])"
   ]
  },
  {
   "cell_type": "markdown",
   "metadata": {},
   "source": [
    "## Обучение итоговой модели"
   ]
  },
  {
   "cell_type": "code",
   "execution_count": 261,
   "metadata": {},
   "outputs": [],
   "source": [
    "X_train, X_test, y_train, y_test = train_test_split(df.drop('target', axis=1), \n",
    "                                                    df['target'],\n",
    "                                                    shuffle=True,\n",
    "                                                    random_state=12,\n",
    "                                                    stratify=df['target'], \n",
    "                                                    test_size=0.2)\n",
    "\n",
    "train = lgb.Dataset(data=X_train,\n",
    "                    label=y_train,\n",
    "                    categorical_feature=cat_feats,\n",
    "                    free_raw_data = False) \n",
    "\n",
    "test = lgb.Dataset(data=X_test,\n",
    "                    label=y_test,\n",
    "                    categorical_feature=cat_feats,\n",
    "                    free_raw_data = False) "
   ]
  },
  {
   "cell_type": "code",
   "execution_count": 253,
   "metadata": {},
   "outputs": [
    {
     "name": "stdout",
     "output_type": "stream",
     "text": [
      "Training until validation scores don't improve for 120 rounds.\n",
      "[50]\ttraining's auc: 0.742847\tvalid_1's auc: 0.730157\n",
      "[100]\ttraining's auc: 0.749245\tvalid_1's auc: 0.734106\n",
      "[150]\ttraining's auc: 0.75585\tvalid_1's auc: 0.740184\n",
      "[200]\ttraining's auc: 0.762083\tvalid_1's auc: 0.741548\n",
      "[250]\ttraining's auc: 0.767222\tvalid_1's auc: 0.74317\n",
      "[300]\ttraining's auc: 0.770603\tvalid_1's auc: 0.743856\n",
      "[350]\ttraining's auc: 0.774055\tvalid_1's auc: 0.745189\n",
      "[400]\ttraining's auc: 0.776797\tvalid_1's auc: 0.74515\n",
      "[450]\ttraining's auc: 0.779433\tvalid_1's auc: 0.745567\n",
      "[500]\ttraining's auc: 0.781982\tvalid_1's auc: 0.746098\n",
      "[550]\ttraining's auc: 0.784872\tvalid_1's auc: 0.746154\n",
      "[600]\ttraining's auc: 0.787252\tvalid_1's auc: 0.746562\n",
      "[650]\ttraining's auc: 0.789037\tvalid_1's auc: 0.746182\n",
      "[700]\ttraining's auc: 0.791276\tvalid_1's auc: 0.745917\n",
      "Early stopping, best iteration is:\n",
      "[621]\ttraining's auc: 0.787947\tvalid_1's auc: 0.746688\n"
     ]
    }
   ],
   "source": [
    "# Возьмем лучшие параметры от кросс-валидации\n",
    "\n",
    "model = lgb.train(grid_params,\n",
    "                   train_set=train,\n",
    "                   valid_sets=[train,test],\n",
    "                   categorical_feature=cat_feats,\n",
    "                   early_stopping_rounds=120,\n",
    "                   verbose_eval=50\n",
    "                  )"
   ]
  },
  {
   "cell_type": "code",
   "execution_count": 262,
   "metadata": {},
   "outputs": [
    {
     "name": "stdout",
     "output_type": "stream",
     "text": [
      "Training until validation scores don't improve for 120 rounds.\n",
      "[50]\ttraining's auc: 0.753134\tvalid_1's auc: 0.737414\n",
      "[100]\ttraining's auc: 0.757413\tvalid_1's auc: 0.742184\n",
      "[150]\ttraining's auc: 0.761035\tvalid_1's auc: 0.744401\n",
      "[200]\ttraining's auc: 0.765095\tvalid_1's auc: 0.745216\n",
      "[250]\ttraining's auc: 0.768197\tvalid_1's auc: 0.746348\n",
      "[300]\ttraining's auc: 0.771135\tvalid_1's auc: 0.74747\n",
      "[350]\ttraining's auc: 0.773669\tvalid_1's auc: 0.746748\n",
      "[400]\ttraining's auc: 0.777893\tvalid_1's auc: 0.748241\n",
      "[450]\ttraining's auc: 0.780392\tvalid_1's auc: 0.748531\n",
      "[500]\ttraining's auc: 0.782613\tvalid_1's auc: 0.748531\n",
      "[550]\ttraining's auc: 0.784686\tvalid_1's auc: 0.748432\n",
      "[600]\ttraining's auc: 0.786569\tvalid_1's auc: 0.748234\n",
      "[650]\ttraining's auc: 0.788182\tvalid_1's auc: 0.748786\n",
      "[700]\ttraining's auc: 0.790147\tvalid_1's auc: 0.74821\n",
      "[750]\ttraining's auc: 0.792036\tvalid_1's auc: 0.747587\n",
      "Early stopping, best iteration is:\n",
      "[641]\ttraining's auc: 0.787911\tvalid_1's auc: 0.749025\n"
     ]
    }
   ],
   "source": [
    "# Возьмем лучшие параметры от кросс-валидации\n",
    "\n",
    "model = lgb.train(grid_params,\n",
    "                   train_set=train,\n",
    "                   valid_sets=[train,test],\n",
    "                   categorical_feature=cat_feats,\n",
    "                   early_stopping_rounds=120,\n",
    "                   verbose_eval=50\n",
    "                  )"
   ]
  },
  {
   "cell_type": "markdown",
   "metadata": {},
   "source": [
    "## Значимость признаков"
   ]
  },
  {
   "cell_type": "code",
   "execution_count": 211,
   "metadata": {
    "scrolled": false
   },
   "outputs": [
    {
     "data": {
      "image/png": "[encoded data removed]",
      "text/plain": [
       "<Figure size 700x3000 with 1 Axes>"
      ]
     },
     "metadata": {},
     "output_type": "display_data"
    }
   ],
   "source": [
    "dset = pd.Series(model.feature_importance(importance_type='split'), \n",
    "                       index=[col[:70] for col in model.feature_name()])\\\n",
    "                      .sort_values(ascending=True)\n",
    "\n",
    "plt.figure(figsize=(7, 30), dpi=100)\n",
    "plt.barh(y=dset.index, width=dset, color='g')\n",
    "plt.title('Значимость признаков', fontsize=16, fontweight='bold')\n",
    "plt.show()\n",
    "                 \n",
    "                \n",
    "#=[col[:70] for col in model.feature_name()]"
   ]
  },
  {
   "cell_type": "markdown",
   "metadata": {},
   "source": [
    "## Сохранение модели"
   ]
  },
  {
   "cell_type": "code",
   "execution_count": 270,
   "metadata": {},
   "outputs": [
    {
     "data": {
      "text/plain": [
       "['lgbm_model.pkl']"
      ]
     },
     "execution_count": 270,
     "metadata": {},
     "output_type": "execute_result"
    }
   ],
   "source": [
    "#pickle.dump(model, open('lgbm_model.pkl', 'wb'))\n",
    "\n",
    "\n",
    "joblib.dump(model, 'lgbm_model.pkl')\n"
   ]
  },
  {
   "cell_type": "code",
   "execution_count": null,
   "metadata": {},
   "outputs": [],
   "source": []
  }
 ],
 "metadata": {
  "kernelspec": {
   "display_name": "Python 3",
   "language": "python",
   "name": "python3"
  },
  "language_info": {
   "codemirror_mode": {
    "name": "ipython",
    "version": 3
   },
   "file_extension": ".py",
   "mimetype": "text/x-python",
   "name": "python",
   "nbconvert_exporter": "python",
   "pygments_lexer": "ipython3",
   "version": "3.6.5"
  }
 },
 "nbformat": 4,
 "nbformat_minor": 2
}
